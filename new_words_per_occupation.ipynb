{
 "cells": [
  {
   "cell_type": "code",
   "execution_count": null,
   "metadata": {},
   "outputs": [],
   "source": [
    "#Import CSV file\n",
    "\n",
    "\n",
    "#Setup\n",
    "\n",
    "import pandas as pd\n",
    "import matplotlib.pyplot as plt\n",
    "from nltk.probability import FreqDist\n",
    "import nltk\n",
    "from nltk.corpus import stopwords\n",
    "swedish_stop_words = [\n",
    "    'och', 'i', 'att', 'en', 'som', 'för', 'med', 'till', 'på', 'är',\n",
    "    'av', 'om', 'den', 'de', 'vi', 'du', 'han', 'hon', 'det', 'så',\n",
    "    'kan', 'men', 'hur', 'när', 'där', 'var', 'sig', 'ett', 'från',\n",
    "    'ha', 'har', 'inte', 'eller', 'man', 'vid', 'blir', 'blev', 'gör',\n",
    "    'gjort', 'gjorde', 'göra', 'ska', 'skall', 'samma', 'sådan', 'sådant',\n",
    "    'sådana', 'din', 'ditt', 'mina', 'mitt', 'enligt', 'både', 'även',\n",
    "    'första', 'genom', 'mellan', 'någon', 'något', 'några', 'sista',\n",
    "    'under', 'utan', 'över', 'förra', 'fram', 'hela', 'närvarande',\n",
    "    'sista', 'samma', 'samma', 'samma', \"'\", ',', '.', 'text', \"'\", \".\", \":\", \"!\", \"*\", \"None\", \",\", \"(\", \")\", \"?\", \"{\", \"kommer\"\n",
    "]"
   ]
  },
  {
   "cell_type": "code",
   "execution_count": null,
   "metadata": {},
   "outputs": [],
   "source": [
    "# create a list to store the word frequencies for each occupation\n",
    "word_freqs = []\n",
    "\n",
    "occupations = df['cleaned_occupation'].unique()\n",
    "\n",
    "# loop through every occupation in the dataset\n",
    "for occupation in occupations:\n",
    "    \n",
    "    # get the descriptions for the occupation\n",
    "    descriptions = new_df[new_df['occupation'] == occupation]['description'].tolist()\n",
    "    \n",
    "    # combine all the descriptions into a single string\n",
    "    text = ' '.join(descriptions)\n",
    "    \n",
    "    # tokenize the text\n",
    "    tokens = nltk.word_tokenize(text)\n",
    "    \n",
    "    filtered_tokens = [word for word in tokens if word.lower() not in swedish_stop_words]\n",
    "    # create a frequency distribution of the tokens\n",
    "    freq_dist = FreqDist(tokens)\n",
    "    \n",
    "    # add the word frequencies to the list\n",
    "    word_freqs.append((occupation, freq_dist))\n"
   ]
  },
  {
   "cell_type": "code",
   "execution_count": null,
   "metadata": {},
   "outputs": [],
   "source": []
  },
  {
   "cell_type": "code",
   "execution_count": null,
   "metadata": {},
   "outputs": [],
   "source": [
    "# loop through the word frequencies and plot a graph for each occupation\n",
    "for occupation, freq_dist in word_freqs:\n",
    "    plt.figure(figsize=(16,5))\n",
    "    plt.title(occupation)\n",
    "    freq_dist.plot(50)\n",
    "    plt.show()"
   ]
  }
 ],
 "metadata": {
  "language_info": {
   "name": "python"
  },
  "orig_nbformat": 4
 },
 "nbformat": 4,
 "nbformat_minor": 2
}
