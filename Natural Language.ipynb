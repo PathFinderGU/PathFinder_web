{
 "cells": [
  {
   "cell_type": "code",
   "execution_count": null,
   "metadata": {},
   "outputs": [],
   "source": [
    "# Loading the dataset\n",
    "from IPython.display import display\n",
    "## Natural language processing\n",
    "\n",
    "#importera nltk tokenize, download stopwords & punkt\n",
    "from nltk.tokenize import sent_tokenize, word_tokenize\n",
    "from nltk import download \n",
    "import nltk\n",
    "nltk.download(\"stopwords\")\n",
    "from nltk.corpus import stopwords\n",
    "nltk.download('punkt')\n",
    "\n",
    "##trycker in alla stopwords i en variabel\n",
    "stop_words = set(stopwords.words(\"swedish\"))\n",
    "\n",
    "# Code from Canvas:\n",
    "#load pandas, tool for data analysis in Python\n",
    "import pandas as pd\n",
    "# read the file called 2022.json that is in the same directory and call it jobtech_dataset\n",
    "jobtech_dataset = pd.read_csv('jobtech_dataset2022.csv')\n",
    "pd.set_option('max_colwidth', None)\n",
    "#\n",
    "df = jobtech_dataset[['id', 'description', 'working_hours_type', 'must_have', 'nice_to_have']]\n",
    "min_variabel = df.iloc[2]['description']\n",
    "\n",
    "#printar hela descriptionen från en rad\n",
    "print(min_variabel)\n",
    "#tokenizar orden, gör en lista med ord\n",
    "variabel = word_tokenize(str(min_variabel))\n",
    "#tar bort stopwords\n",
    "filtrerad_lista = []\n",
    "for word in variabel:\n",
    "    if word.casefold() not in stop_words:\n",
    "        filtrerad_lista.append(word)\n",
    "\n",
    "#printar utan stopwords\n",
    "\n",
    "print(filtrerad_lista)\n",
    "# #show the variables names (columns) in the dataset\n",
    "#df = pd.DataFrame(df)\n",
    "\n",
    "#print(df.head)\n",
    "#display(df)\n",
    "#display(df)"
   ]
  }
 ],
 "metadata": {
  "kernelspec": {
   "display_name": "base",
   "language": "python",
   "name": "python3"
  },
  "language_info": {
   "codemirror_mode": {
    "name": "ipython",
    "version": 3
   },
   "file_extension": ".py",
   "mimetype": "text/x-python",
   "name": "python",
   "nbconvert_exporter": "python",
   "pygments_lexer": "ipython3",
   "version": "3.10.9"
  },
  "orig_nbformat": 4
 },
 "nbformat": 4,
 "nbformat_minor": 2
}
