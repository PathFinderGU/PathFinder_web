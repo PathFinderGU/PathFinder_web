{
 "cells": [
  {
   "cell_type": "code",
   "execution_count": 15,
   "metadata": {},
   "outputs": [
    {
     "name": "stderr",
     "output_type": "stream",
     "text": [
      "[nltk_data] Downloading package stopwords to\n",
      "[nltk_data]     /Users/bohmaniac/nltk_data...\n",
      "[nltk_data]   Package stopwords is already up-to-date!\n",
      "[nltk_data] Downloading package punkt to /Users/bohmaniac/nltk_data...\n",
      "[nltk_data]   Package punkt is already up-to-date!\n"
     ]
    },
    {
     "name": "stdout",
     "output_type": "stream",
     "text": [
      "['{', \"'text\", \"'\", ':', '``', 'looking', 'want', 'go', 'involved', 'business', 'one', 'large', 'customers', 'electronics', '!', 'Mycronic', 'operates', 'electronics', 'industry', 'several', 'years', 'row', 'named', 'one', 'companies', 'offer', 'unique', 'career', 'development', 'opportunities', 'via', 'Karriärföretagen', '.', ',', 'challenged', 'every', 'day', '-', 'want', 'part', 'continued', 'journey', '?', 'Welcome', 'application', '!', '\\\\n\\\\nOM', 'TJÄNSTEN\\\\nMycronic', 'looking', 'Service', 'Engineer', 'employment', 'based', 'headquarters', 'Stockholm/Täby', '.', 'challenge', 'work', 'advanced', 'inhouse', 'process', 'metrology', 'equipment', 'PMC', 'lab', ',', 'enabling', 'development', 'delivery', 'world', '’', 'advanced', 'laser', 'pattern', 'generators', 'photo', 'mask', 'writing', '.', 'Almost', 'displays', 'see', 'around', 'TV', ':', ',', 'computers', ',', 'tablets', ',', 'mobile', 'phones', 'etc', '.', 'manufactured', 'using', 'technology', '!', 'PMC', 'Service', 'Engineer', 'Mycronic', 'AB', 'make', 'important', 'contribution', 'develop', 'secure', 'high', 'performance', 'advanced', 'functionality', 'products.\\\\n\\\\nYou', 'offered\\\\n\\\\n\\\\n', '*', 'nice', 'colleagues', 'also', 'high', 'levels', 'expertise', '-', 'find', 'side', 'side', 'leading', 'experts', 'electronics', 'industry', ',', 'getting', 'inspired', 'inspiring', 'others', ',', 'acquire', 'new', 'knowledge', 'share', 'others', 'across', 'functions', 'cultures\\\\n', '*', 'part', 'company', 'diverse', 'culture', 'workforce', '.', '\\\\n\\\\n\\\\n\\\\n\\\\nARBETSUPPGIFTER\\\\n•', 'Troubleshoot', 'repair', 'dedicated', 'process', 'metrology', 'equipment', '.', 'Proactive', 'reactive.\\\\n\\\\n•', 'Cooperate', 'assist', 'Customer', 'Support', 'Operations', 'solve', 'problems', 'arising', 'PMC-lab.\\\\n\\\\n•', 'Perform', 'dedicated', 'proactive', 'maintenance', 'work', 'achieve', 'high', 'tool', 'uptime', 'availability', ',', 'e.g', '.', 'calibration\\\\n\\\\n•', 'Contacts', 'suppliers', 'upgrades', ',', 'maintenance', 'new', 'tool', 'investments\\\\n\\\\n•', 'Perform', 'measurements', 'dedicated', 'measurement', 'tools\\\\n\\\\n•', 'Educate', 'new', 'users', 'process', 'metrology', 'equipment\\\\n\\\\n•', 'Build', 'prototypes', 'test', 'benches\\\\n\\\\n•', 'Program', 'optimize', 'equipment\\\\n\\\\n•', 'Suggest', 'implement', 'improvements', 'working', 'methods\\\\n\\\\n\\\\nYou', 'work', 'parallel', 'experienced', 'colleagues', 'learning', 'process', 'metrology', 'equipment.\\\\nA', 'future', 'development', 'path', 'may', 'combine', 'service', 'work', 'work', 'pattern', 'generator', 'tools', ',', 'depending', 'ambition', 'grow.\\\\n\\\\nVI', 'SÖKER', 'DIG', 'SOM\\\\n•', 'High', 'school', 'degree', 'science', 'equivalent', 'working', 'experience\\\\n\\\\n•', '>', '5', 'years', 'relevant', 'working', 'experience\\\\n\\\\n•', 'programming', 'scripting', 'skills/interest\\\\n\\\\n•', 'Interest', 'technology\\\\n\\\\n•', 'Fluency', 'English', ',', 'written', 'spoken', 'alike\\\\n\\\\nIt', \"'s\", 'merit', 'you\\\\n\\\\n•', 'clean', 'room', 'experience\\\\n\\\\n•', 'Semiconductor', 'display', 'manufacturing', 'knowledge\\\\n\\\\n\\\\n\\\\n\\\\n\\\\nAs', 'person', 'are\\\\n\\\\n\\\\n', '*', 'Result-oriented\\\\n', '*', 'Solutions-oriented\\\\n', '*', 'Service', 'minded\\\\n', '*', 'Persistent\\\\n\\\\n\\\\nIn', 'order', 'succeed', 'position', 'need', 'hands-on', 'person', 'like', 'make', 'things', 'work', '.', 'result', 'oriented', 'drive', 'ambition', 'secure', 'high', 'availability', 'equipment', '.', 'interactions', 'others', 'frequent', 'service', 'minded', 'work', 'persistently', 'good', 'mood', 'problem', 'solved', '.', 'really', 'like', 'solve', 'problems', ',', 'feel', 'rewarded', 'so.\\\\n\\\\nOther', 'information\\\\n\\\\n\\\\n', '*', 'Start', ':', 'Immediately\\\\n', '*', 'Work', 'extent', ':', 'Full-time\\\\n', '*', 'Location', ':', 'Täby', ',', 'Stockholm\\\\n', '*', 'Contact', 'information', ':', 'recruitment', 'process', 'conducted', 'Academic', 'Work', '.', 'request', 'Mycronic', 'questions', 'regarding', 'position', 'handled', 'by\\\\nAcademic', 'Work.\\\\n\\\\n\\\\nOur', 'selection', 'process', 'continuous', 'advert', 'may', 'close', 'recruitment', 'process', 'completed', 'moved', 'forward', 'screening', 'interview', 'phase.\\\\n\\\\nINFORMATION', 'OM', 'FÖRETAGET\\\\nHere', 'read', 'Mycronic', '.', '``', ',', \"'text_formatted\", \"'\", ':', 'None', ',', \"'company_information\", \"'\", ':', 'None', ',', \"'needs\", \"'\", ':', 'None', ',', \"'requirements\", \"'\", ':', 'None', ',', \"'conditions\", \"'\", ':', \"'Full\", 'time\\\\n8-17', \"'\", '}']\n"
     ]
    }
   ],
   "source": [
    "# Loading the dataset\n",
    "from IPython.display import display\n",
    "## Natural language processing\n",
    "\n",
    "#importera nltk tokenize, download stopwords & punkt\n",
    "from nltk.tokenize import sent_tokenize, word_tokenize\n",
    "from nltk import download \n",
    "import nltk\n",
    "nltk.download(\"stopwords\")\n",
    "from nltk.corpus import stopwords\n",
    "nltk.download('punkt')\n",
    "\n",
    "##plats för att skapa stop words\n",
    "stop_words = set(stopwords.words(\"swedish\"))\n",
    "\n",
    "# Code from Canvas:\n",
    "#load pandas, tool for data analysis in Python\n",
    "import pandas as pd\n",
    "# read the file called 2022.json that is in the same directory and call it jobtech_dataset\n",
    "jobtech_dataset = pd.read_csv('jobtech_dataset2022.csv')\n",
    "pd.set_option('max_colwidth', None)\n",
    "#\n",
    "df = jobtech_dataset[['id', 'description', 'working_hours_type', 'must_have', 'nice_to_have']]\n",
    "min_variabel = df.iloc[2]['description']\n",
    "\n",
    "\n",
    "#print(min_variabel)\n",
    "variabel = word_tokenize(str(min_variabel))\n",
    "filtrerad_lista = []\n",
    "for word in variabel:\n",
    "    if word.casefold() not in stop_words:\n",
    "        filtrerad_lista.append(word)\n",
    "\n",
    "\n",
    "\n",
    "\n",
    "\n",
    "print(filtrerad_lista)\n",
    "# #show the variables names (columns) in the dataset\n",
    "#df = pd.DataFrame(df)\n",
    "\n",
    "#print(df.head)\n",
    "#display(df)\n",
    "#display(df)"
   ]
  }
 ],
 "metadata": {
  "kernelspec": {
   "display_name": "base",
   "language": "python",
   "name": "python3"
  },
  "language_info": {
   "codemirror_mode": {
    "name": "ipython",
    "version": 3
   },
   "file_extension": ".py",
   "mimetype": "text/x-python",
   "name": "python",
   "nbconvert_exporter": "python",
   "pygments_lexer": "ipython3",
   "version": "3.10.9"
  },
  "orig_nbformat": 4
 },
 "nbformat": 4,
 "nbformat_minor": 2
}
