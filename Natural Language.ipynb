{
 "cells": [
  {
   "cell_type": "code",
   "execution_count": 3,
   "metadata": {},
   "outputs": [
    {
     "name": "stdout",
     "output_type": "stream",
     "text": [
      "{'text': \"We are looking for you who want to go in and be involved in the business with one of our large customers in electronics! Mycronic operates in the electronics industry and has for several years in a row been named one of the companies that offer unique career and development opportunities via Karriärföretagen. With them, you are challenged every day - do you want to be a part of their continued journey? Welcome with your application!\\n\\nOM TJÄNSTEN\\nMycronic is looking for a Service Engineer for employment based at the headquarters in Stockholm/Täby. Your challenge will be to work with advanced inhouse process and metrology equipment in their PMC lab, enabling the development and delivery of world’s most advanced laser pattern generators for photo mask writing. Almost all displays you see around you in TV:s, computers, tablets, mobile phones etc. are manufactured using their technology! As a PMC Service Engineer at Mycronic AB you will make an important contribution to develop and secure the high performance and advanced functionality in their products.\\n\\nYou are offered\\n\\n\\n* Not only nice colleagues but also high levels of expertise - you will find yourself side by side with some of the leading experts in the electronics industry, getting inspired and inspiring others, as you acquire new knowledge and share it with others across functions and cultures\\n* You will be part of a company with a diverse culture and workforce. \\n\\n\\n\\n\\nARBETSUPPGIFTER\\n•   Troubleshoot and repair dedicated process and metrology equipment. Proactive and reactive.\\n\\n•   Cooperate and assist Customer Support and Operations to solve problems arising in the PMC-lab.\\n\\n•   Perform dedicated proactive maintenance work to achieve high tool uptime and availability, e.g. calibration\\n\\n•   Contacts with suppliers for upgrades, maintenance and new tool investments\\n\\n•   Perform measurements in dedicated measurement tools\\n\\n•   Educate new users on process and metrology equipment\\n\\n•   Build prototypes and test benches\\n\\n•   Program and optimize the equipment\\n\\n•   Suggest and implement improvements to the working methods\\n\\n\\nYou will work in parallel with very experienced colleagues while learning all the process and metrology equipment.\\nA future development path may be to combine the service work with work on the pattern generator tools, depending on your own will and ambition to grow.\\n\\nVI SÖKER DIG SOM\\n•   High school degree in science or equivalent working experience\\n\\n•   > 5 years of relevant working experience\\n\\n•   Some programming or scripting skills/interest\\n\\n•   Interest in technology\\n\\n•   Fluency in English, written and spoken alike\\n\\nIt's a merit if you\\n\\n•   Have clean room experience\\n\\n•   Semiconductor and display manufacturing knowledge\\n\\n\\n\\n\\n\\nAs a person you are\\n\\n\\n* Result-oriented\\n* Solutions-oriented\\n* Service minded\\n* Persistent\\n\\n\\nIn order to succeed in this position you need to be a hands-on person that like to make things work. You should be result oriented with drive and ambition to secure a high availability of the equipment. As interactions with others are frequent you should be service minded and work persistently in a good mood until the problem is solved. You really like to solve problems, and feel rewarded when doing so.\\n\\nOther information\\n\\n\\n* Start: Immediately\\n* Work extent: Full-time\\n* Location: Täby, Stockholm\\n* Contact information: This recruitment process is conducted by Academic Work. It is a request from Mycronic that all questions regarding the position is handled by\\nAcademic Work.\\n\\n\\nOur selection process is continuous and the advert may close before the recruitment process is completed if we have moved forward to the screening or interview phase.\\n\\nINFORMATION OM FÖRETAGET\\nHere you can read about Mycronic.\", 'text_formatted': None, 'company_information': None, 'needs': None, 'requirements': None, 'conditions': 'Full time\\n8-17'}\n"
     ]
    }
   ],
   "source": [
    "# Loading the dataset\n",
    "from IPython.display import display\n",
    "## Natural language processing\n",
    "\n",
    "from nltk.tokenize import sent_tokenize, word_tokenize\n",
    "\n",
    "\n",
    "# Code from Canvas:\n",
    "#load pandas, tool for data analysis in Python\n",
    "import pandas as pd\n",
    "# read the file called 2022.json that is in the same directory and call it jobtech_dataset\n",
    "jobtech_dataset = pd.read_csv('jobtech_dataset2022.csv')\n",
    "pd.set_option('max_colwidth', None)\n",
    "#\n",
    "df = jobtech_dataset[['id', 'description', 'working_hours_type', 'must_have', 'nice_to_have']]\n",
    "min_variabel = df.iloc[0]['description']\n",
    "print(min_variabel)\n",
    "# #show the variables names (columns) in the dataset\n",
    "#df = pd.DataFrame(df)\n",
    "\n",
    "#print(df.head)\n",
    "#display(df)\n",
    "#display(df)"
   ]
  }
 ],
 "metadata": {
  "kernelspec": {
   "display_name": "base",
   "language": "python",
   "name": "python3"
  },
  "language_info": {
   "codemirror_mode": {
    "name": "ipython",
    "version": 3
   },
   "file_extension": ".py",
   "mimetype": "text/x-python",
   "name": "python",
   "nbconvert_exporter": "python",
   "pygments_lexer": "ipython3",
   "version": "3.10.9"
  },
  "orig_nbformat": 4
 },
 "nbformat": 4,
 "nbformat_minor": 2
}
