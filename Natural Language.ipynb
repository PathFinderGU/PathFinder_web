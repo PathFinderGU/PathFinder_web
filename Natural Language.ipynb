{
 "cells": [
  {
   "cell_type": "code",
   "execution_count": null,
   "metadata": {},
   "outputs": [],
   "source": [
    "## NLTK SET UP ##\n",
    "\n",
    "## Natural language processing, pandas setup\n",
    "\n",
    "#Import tokenization, download stopwords & punkt. Download not needed each run but left in for compatibility.\n",
    "from nltk.tokenize import sent_tokenize, word_tokenize\n",
    "from nltk import download \n",
    "import nltk\n",
    "nltk.download(\"stopwords\")\n",
    "from nltk.corpus import stopwords\n",
    "nltk.download('punkt')\n",
    "\n",
    "\n",
    "## Feed variable with NLTK stopwords\n",
    "stop_words = set(stopwords.words(\"swedish\"))\n",
    "\n",
    "\n"
   ]
  },
  {
   "cell_type": "code",
   "execution_count": 2,
   "metadata": {},
   "outputs": [],
   "source": [
    "\n",
    "## SET UP PANDAS & READ FILE ##\n",
    "import pandas as pd\n",
    "# read the file called 2022.json that is in the same directory and call it jobtech_dataset\n",
    "jobtech_dataset = pd.read_csv('jobtech_dataset2022.csv')\n",
    "pd.set_option('max_colwidth', None) # Tell editor to not limit column width\n",
    "\n",
    "\n",
    "df = jobtech_dataset[['id', 'description', 'working_hours_type', 'must_have', 'nice_to_have']]  # Picking our columns\n",
    "\n"
   ]
  },
  {
   "cell_type": "code",
   "execution_count": null,
   "metadata": {},
   "outputs": [],
   "source": [
    "## BASIC NLP ##\n",
    "\n",
    "min_variabel = df.iloc[2]['description']            # Taking the second row from the data and only 'description' column\n",
    "# Prints the entire description of a certain row for debug purposes\n",
    "print(min_variabel)\n",
    "\n",
    "# Tokenizes by word, each word becomes an entry in an array. Feed them into another variable. We need to fix our variable names.\n",
    "variabel = word_tokenize(str(min_variabel))\n",
    "\n",
    "#For each word in our variable, remove those that are stopwords\n",
    "filtrerad_lista = []\n",
    "for word in variabel:\n",
    "    if word.casefold() not in stop_words:\n",
    "        filtrerad_lista.append(word)\n",
    "\n",
    "#Prints our list of remaining, non-stop words\n",
    "\n",
    "print(filtrerad_lista)\n"
   ]
  }
 ],
 "metadata": {
  "kernelspec": {
   "display_name": "base",
   "language": "python",
   "name": "python3"
  },
  "language_info": {
   "codemirror_mode": {
    "name": "ipython",
    "version": 3
   },
   "file_extension": ".py",
   "mimetype": "text/x-python",
   "name": "python",
   "nbconvert_exporter": "python",
   "pygments_lexer": "ipython3",
   "version": "3.10.9"
  },
  "orig_nbformat": 4
 },
 "nbformat": 4,
 "nbformat_minor": 2
}
