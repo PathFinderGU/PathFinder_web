{
 "cells": [
  {
   "cell_type": "code",
   "execution_count": 1,
   "metadata": {},
   "outputs": [
    {
     "name": "stderr",
     "output_type": "stream",
     "text": [
      "[nltk_data] Downloading package stopwords to\n",
      "[nltk_data]     /Users/bohmaniac/nltk_data...\n",
      "[nltk_data]   Package stopwords is already up-to-date!\n",
      "[nltk_data] Downloading package punkt to /Users/bohmaniac/nltk_data...\n",
      "[nltk_data]   Package punkt is already up-to-date!\n"
     ]
    }
   ],
   "source": [
    "## ANVÄNDS EJ LÄNGRE\n",
    "\n",
    "## NLTK SET UP ##\n",
    "\n",
    "## Natural language processing, pandas setup\n",
    "\n",
    "#Import tokenization, download stopwords & punkt. Download not needed each run but left in for compatibility.\n",
    "from nltk.tokenize import sent_tokenize, word_tokenize\n",
    "from nltk import download \n",
    "import nltk\n",
    "nltk.download(\"stopwords\")\n",
    "from nltk.corpus import stopwords\n",
    "nltk.download('punkt')\n",
    "\n",
    "\n",
    "## Feed variable with NLTK stopwords\n",
    "stop_words = set(stopwords.words(\"swedish\"))\n",
    "\n",
    "\n"
   ]
  },
  {
   "cell_type": "code",
   "execution_count": 2,
   "metadata": {},
   "outputs": [],
   "source": [
    "\n",
    "## SET UP PANDAS & READ FILE ##\n",
    "import pandas as pd\n",
    "# read the file called 2022.json that is in the same directory and call it jobtech_dataset\n",
    "jobtech_dataset = pd.read_csv('jobtech_dataset2022.csv')\n",
    "pd.set_option('max_colwidth', None) # Tell editor to not limit column width\n",
    "\n",
    "\n",
    "df = jobtech_dataset[['id', 'description', 'working_hours_type', 'must_have', 'nice_to_have']]  # Picking our columns\n",
    "\n"
   ]
  },
  {
   "cell_type": "code",
   "execution_count": 3,
   "metadata": {},
   "outputs": [
    {
     "name": "stdout",
     "output_type": "stream",
     "text": [
      "{'text': 'I denna projektanställning på deltid kommer du att sammanställa data och presentera för dina kollegor. Låter det som något för dig? Då tar vi gärna emot din ansökan redan idag!\\n\\nOM TJÄNSTEN\\nImmuneed är ett tillväxtbolag som bedriver forskning och utveckling inom bioteknik. Företaget växer och under hösten har Immuneed flyttat in i sina nya lokaler i Centrala Uppsala.\\n\\nNu behöver de en strukturerad och noggrann student som vill ta sig an ett viktigt projekt för Immuneed. Du kommer att sammanställa data till 2 interna kvalitets och R&D-projekt – i form av att plocka ut data och sammanställa i en analys. Du kommer bli handledd av teamet på Immuneed.\\n\\nDetta är en projektanställning som startar i Januari 2022 och beräknas sluta till sommaren 2022. Projekten har start och slutdatum men du får vara med och lägga upp tidsplan och tidsåtgång för arbetet.\\n\\nSom konsult för Academic Work erbjuder vi stora möjligheter för dig att växa professionellt, bygga ditt nätverk och skapa värdefulla kontakter för framtiden. Läs mer om vårt konsulterbjudande.\\n\\nARBETSUPPGIFTER\\n* Plocka ut definierade data från tillhandahållet material\\n\\n\\n* Sammanställa materialet i en ny analys; göra grafer och tabeller\\n* Presentera samanställd data för teamet på Immuneed\\n\\n\\nVI SÖKER DIG SOM\\n* Studerar en masterutbildning på universitetet och har studier planerade under hela VT-22\\n\\n\\n* Är van vid att analysera och sammanställa data - kanske är du en fena på att skriva labbrapporter?\\n* Har goda kunskaper i excel; där det är viktigt att du kan skriva formler (summera och ta fram standardavvikelser) samt göra enklare grafer och tabeller\\n* Har mycket goda kunskaper i Engelska i tal och skrift, det är även meriterande om du kan prata och skriva på Svenska\\n\\n\\nSom person är du:\\n\\n\\n* Noggrann\\n* Ansvarstagande\\n* Har god samarbetsförmåga\\n\\n\\nÖvrig information\\n\\n\\n* Start: Mitten av Januari 2022\\n* Omfattning: Deltid med flexibla timmar under dagtid – projekten har start och slutdatum men du får vara med och lägga upp tidsplan och tidsåtgång för arbetet\\n* Placering: Kungsgatan 70D eller hemma\\n* Rekryteringsprocessen hanteras av Academic Work och Immuneed önskemål är att alla frågor rörande tjänsten hanteras av Academic Work.\\n\\n\\nVi går igenom urvalet löpande och annonsen kan stängas ner innan tjänsten är tillsatt om vi gått över till urvals- och intervjufasen.\\n\\nINFORMATION OM FÖRETAGET\\nLäs mer om Immuneed här!', 'text_formatted': None, 'company_information': None, 'needs': None, 'requirements': None, 'conditions': 'Projektanställning\\nKontorstider'}\n"
     ]
    }
   ],
   "source": [
    "#Choosing data & tokenizes it\n",
    "\n",
    "min_variabel = df.iloc[2]['description']            # Taking the second row from the data and only 'description' column\n",
    "# Prints the entire description of a certain row for debug purposes\n",
    "print(min_variabel)\n",
    "\n",
    "# Tokenizes by word, each word becomes an entry in an array. Feed them into another variable. We need to fix our variable names.\n",
    "variabel = word_tokenize(str(min_variabel))"
   ]
  },
  {
   "cell_type": "code",
   "execution_count": 4,
   "metadata": {},
   "outputs": [
    {
     "name": "stdout",
     "output_type": "stream",
     "text": [
      "['{', \"'text\", \"'\", ':', \"'\", 'projektanställning', 'deltid', 'kommer', 'sammanställa', 'data', 'presentera', 'kollegor', '.', 'Låter', '?', 'tar', 'gärna', 'emot', 'ansökan', 'redan', 'idag', '!', '\\\\n\\\\nOM', 'TJÄNSTEN\\\\nImmuneed', 'tillväxtbolag', 'bedriver', 'forskning', 'utveckling', 'bioteknik', '.', 'Företaget', 'växer', 'hösten', 'Immuneed', 'flyttat', 'in', 'nya', 'lokaler', 'Centrala', 'Uppsala.\\\\n\\\\nNu', 'behöver', 'strukturerad', 'noggrann', 'student', 'vill', 'ta', 'an', 'viktigt', 'projekt', 'Immuneed', '.', 'kommer', 'sammanställa', 'data', '2', 'interna', 'kvalitets', 'R', '&', 'D-projekt', '–', 'form', 'plocka', 'data', 'sammanställa', 'analys', '.', 'kommer', 'handledd', 'teamet', 'Immuneed.\\\\n\\\\nDetta', 'projektanställning', 'startar', 'Januari', '2022', 'beräknas', 'sluta', 'sommaren', '2022', '.', 'Projekten', 'start', 'slutdatum', 'får', 'lägga', 'tidsplan', 'tidsåtgång', 'arbetet.\\\\n\\\\nSom', 'konsult', 'Academic', 'Work', 'erbjuder', 'stora', 'möjligheter', 'växa', 'professionellt', ',', 'bygga', 'nätverk', 'skapa', 'värdefulla', 'kontakter', 'framtiden', '.', 'Läs', 'mer', 'konsulterbjudande.\\\\n\\\\nARBETSUPPGIFTER\\\\n', '*', 'Plocka', 'definierade', 'data', 'tillhandahållet', 'material\\\\n\\\\n\\\\n', '*', 'Sammanställa', 'materialet', 'ny', 'analys', ';', 'göra', 'grafer', 'tabeller\\\\n', '*', 'Presentera', 'samanställd', 'data', 'teamet', 'Immuneed\\\\n\\\\n\\\\nVI', 'SÖKER', 'SOM\\\\n', '*', 'Studerar', 'masterutbildning', 'universitetet', 'studier', 'planerade', 'hela', 'VT-22\\\\n\\\\n\\\\n', '*', 'van', 'analysera', 'sammanställa', 'data', '-', 'kanske', 'fena', 'skriva', 'labbrapporter', '?', '\\\\n', '*', 'goda', 'kunskaper', 'excel', ';', 'viktigt', 'skriva', 'formler', '(', 'summera', 'ta', 'fram', 'standardavvikelser', ')', 'samt', 'göra', 'enklare', 'grafer', 'tabeller\\\\n', '*', 'goda', 'kunskaper', 'Engelska', 'tal', 'skrift', ',', 'även', 'meriterande', 'prata', 'skriva', 'Svenska\\\\n\\\\n\\\\nSom', 'person', ':', '\\\\n\\\\n\\\\n', '*', 'Noggrann\\\\n', '*', 'Ansvarstagande\\\\n', '*', 'god', 'samarbetsförmåga\\\\n\\\\n\\\\nÖvrig', 'information\\\\n\\\\n\\\\n', '*', 'Start', ':', 'Mitten', 'Januari', '2022\\\\n', '*', 'Omfattning', ':', 'Deltid', 'flexibla', 'timmar', 'dagtid', '–', 'projekten', 'start', 'slutdatum', 'får', 'lägga', 'tidsplan', 'tidsåtgång', 'arbetet\\\\n', '*', 'Placering', ':', 'Kungsgatan', '70D', 'hemma\\\\n', '*', 'Rekryteringsprocessen', 'hanteras', 'Academic', 'Work', 'Immuneed', 'önskemål', 'frågor', 'rörande', 'tjänsten', 'hanteras', 'Academic', 'Work.\\\\n\\\\n\\\\nVi', 'går', 'igenom', 'urvalet', 'löpande', 'annonsen', 'stängas', 'ner', 'innan', 'tjänsten', 'tillsatt', 'gått', 'urvals-', 'intervjufasen.\\\\n\\\\nINFORMATION', 'FÖRETAGET\\\\nLäs', 'mer', 'Immuneed', '!', \"'\", ',', \"'text_formatted\", \"'\", ':', 'None', ',', \"'company_information\", \"'\", ':', 'None', ',', \"'needs\", \"'\", ':', 'None', ',', \"'requirements\", \"'\", ':', 'None', ',', \"'conditions\", \"'\", ':', \"'Projektanställning\\\\nKontorstider\", \"'\", '}']\n"
     ]
    }
   ],
   "source": [
    "## STOPWORDS ##\n",
    "\n",
    "\n",
    "\n",
    "#For each word in our variable, remove those that are stopwords\n",
    "filtrerad_lista = []\n",
    "for word in variabel:\n",
    "    if word.casefold() not in stop_words:\n",
    "        filtrerad_lista.append(word)\n",
    "\n",
    "#Prints our list of remaining, non-stop words\n",
    "\n",
    "print(filtrerad_lista)\n",
    "\n",
    "\n",
    "\n"
   ]
  },
  {
   "cell_type": "code",
   "execution_count": 5,
   "metadata": {},
   "outputs": [
    {
     "ename": "TypeError",
     "evalue": "PorterStemmer.stem() missing 1 required positional argument: 'word'",
     "output_type": "error",
     "traceback": [
      "\u001b[0;31m---------------------------------------------------------------------------\u001b[0m",
      "\u001b[0;31mTypeError\u001b[0m                                 Traceback (most recent call last)",
      "Cell \u001b[0;32mIn[5], line 8\u001b[0m\n\u001b[1;32m      4\u001b[0m \u001b[39mfrom\u001b[39;00m \u001b[39mnltk\u001b[39;00m\u001b[39m.\u001b[39;00m\u001b[39mstem\u001b[39;00m \u001b[39mimport\u001b[39;00m PorterStemmer\n\u001b[1;32m      6\u001b[0m stemmer \u001b[39m=\u001b[39m PorterStemmer\n\u001b[0;32m----> 8\u001b[0m stemmed_lista \u001b[39m=\u001b[39m [stemmer\u001b[39m.\u001b[39mstem(word) \u001b[39mfor\u001b[39;00m word \u001b[39min\u001b[39;00m filtrerad_lista]\n\u001b[1;32m     10\u001b[0m \u001b[39mprint\u001b[39m(stemmed_lista)\n",
      "Cell \u001b[0;32mIn[5], line 8\u001b[0m, in \u001b[0;36m<listcomp>\u001b[0;34m(.0)\u001b[0m\n\u001b[1;32m      4\u001b[0m \u001b[39mfrom\u001b[39;00m \u001b[39mnltk\u001b[39;00m\u001b[39m.\u001b[39;00m\u001b[39mstem\u001b[39;00m \u001b[39mimport\u001b[39;00m PorterStemmer\n\u001b[1;32m      6\u001b[0m stemmer \u001b[39m=\u001b[39m PorterStemmer\n\u001b[0;32m----> 8\u001b[0m stemmed_lista \u001b[39m=\u001b[39m [stemmer\u001b[39m.\u001b[39;49mstem(word) \u001b[39mfor\u001b[39;00m word \u001b[39min\u001b[39;00m filtrerad_lista]\n\u001b[1;32m     10\u001b[0m \u001b[39mprint\u001b[39m(stemmed_lista)\n",
      "\u001b[0;31mTypeError\u001b[0m: PorterStemmer.stem() missing 1 required positional argument: 'word'"
     ]
    }
   ],
   "source": [
    "##STEMMING \n",
    "##Reducerar ord som helper och helping till help\n",
    "\n",
    "from nltk.stem import PorterStemmer\n",
    "\n",
    "stemmer = PorterStemmer()\n",
    "\n",
    "stemmed_lista = [stemmer.stem(word) for word in filtrerad_lista]\n",
    "\n",
    "print(stemmed_lista)"
   ]
  }
 ],
 "metadata": {
  "kernelspec": {
   "display_name": "base",
   "language": "python",
   "name": "python3"
  },
  "language_info": {
   "codemirror_mode": {
    "name": "ipython",
    "version": 3
   },
   "file_extension": ".py",
   "mimetype": "text/x-python",
   "name": "python",
   "nbconvert_exporter": "python",
   "pygments_lexer": "ipython3",
   "version": "3.10.9"
  },
  "orig_nbformat": 4
 },
 "nbformat": 4,
 "nbformat_minor": 2
}
