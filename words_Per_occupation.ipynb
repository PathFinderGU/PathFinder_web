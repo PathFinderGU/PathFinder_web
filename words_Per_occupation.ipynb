{
 "cells": [
  {
   "cell_type": "code",
   "execution_count": 1,
   "metadata": {},
   "outputs": [
    {
     "name": "stderr",
     "output_type": "stream",
     "text": [
      "[nltk_data] Downloading package stopwords to\n",
      "[nltk_data]     /Users/bohmaniac/nltk_data...\n",
      "[nltk_data]   Package stopwords is already up-to-date!\n",
      "[nltk_data] Downloading package punkt to /Users/bohmaniac/nltk_data...\n",
      "[nltk_data]   Package punkt is already up-to-date!\n",
      "[nltk_data] Downloading package wordnet to\n",
      "[nltk_data]     /Users/bohmaniac/nltk_data...\n",
      "[nltk_data]   Package wordnet is already up-to-date!\n"
     ]
    }
   ],
   "source": [
    "## NLTK SET UP ##\n",
    "\n",
    "## Natural language processing, pandas setup\n",
    "\n",
    "#Import tokenization, download stopwords & punkt. Download not needed each run but left in for compatibility.\n",
    "from nltk.tokenize import sent_tokenize, word_tokenize\n",
    "from nltk import download \n",
    "import nltk\n",
    "nltk.download(\"stopwords\")\n",
    "from nltk.corpus import stopwords\n",
    "nltk.download('punkt')\n",
    "nltk.download('wordnet')\n",
    "\n",
    "\n",
    "## Feed variable with NLTK stopwords\n",
    "stop_words = set(stopwords.words(\"swedish\"))"
   ]
  },
  {
   "cell_type": "code",
   "execution_count": 74,
   "metadata": {},
   "outputs": [
    {
     "name": "stdout",
     "output_type": "stream",
     "text": [
      "                        cleaned_occupation\n",
      "0                           Projektledare,\n",
      "1                   Databasadministratör',\n",
      "2                    Journalist/Reporter',\n",
      "3                    Handläggare/Utredare,\n",
      "4                           Projektledare,\n",
      "...                                    ...\n",
      "9915  Behandlingsassistent/Socialpedagog',\n",
      "9916               Kundtjänstmedarbetare',\n",
      "9917           CNC-operatör/FMS-operatör',\n",
      "9918           CNC-operatör/FMS-operatör',\n",
      "9919                           Barnmorska,\n",
      "\n",
      "[9920 rows x 1 columns]\n"
     ]
    }
   ],
   "source": [
    "## SET UP PANDAS & READ FILE ##\n",
    "import pandas as pd\n",
    "# read the file called 2022.json that is in the same directory and call it jobtech_dataset\n",
    "#jobtech_dataset = pd.read_csv('jobtech_dataset2022.csv')\n",
    "jobtech_dataset = pd.read_csv('dfsvenska.csv')\n",
    "#pd.set_option('max_colwidth', None) # Tell editor to not limit column width\n",
    "\n",
    "\n",
    "df = jobtech_dataset[['description', 'occupation']]  # Picking our columns\n",
    "\n",
    "# create an empty list to store cleaned occupations\n",
    "cleaned_occupations = []\n",
    "\n",
    "# loop through every row in the dataset\n",
    "for index, row in df.iterrows():\n",
    "    \n",
    "    # get the occupation column value and clean out the first 41 characters\n",
    "    occupation = row['occupation'][41:]\n",
    "    \n",
    "    # split the occupation string by whitespace and keep only the first word\n",
    "    cleaned_occupation = occupation.split()[0]\n",
    "    \n",
    "    # add the cleaned occupation to the list\n",
    "    cleaned_occupations.append(cleaned_occupation)\n",
    "\n",
    "# create a new dataframe with the cleaned occupations\n",
    "new_df = pd.DataFrame({'cleaned_occupation': cleaned_occupations})\n",
    "df = new_df\n",
    "# print the new dataframe\n",
    "print(df)"
   ]
  },
  {
   "cell_type": "code",
   "execution_count": 75,
   "metadata": {},
   "outputs": [
    {
     "ename": "KeyError",
     "evalue": "'occupation'",
     "output_type": "error",
     "traceback": [
      "\u001b[0;31m---------------------------------------------------------------------------\u001b[0m",
      "\u001b[0;31mKeyError\u001b[0m                                  Traceback (most recent call last)",
      "File \u001b[0;32m~/anaconda3/lib/python3.10/site-packages/pandas/core/indexes/base.py:3802\u001b[0m, in \u001b[0;36mIndex.get_loc\u001b[0;34m(self, key, method, tolerance)\u001b[0m\n\u001b[1;32m   3801\u001b[0m \u001b[39mtry\u001b[39;00m:\n\u001b[0;32m-> 3802\u001b[0m     \u001b[39mreturn\u001b[39;00m \u001b[39mself\u001b[39;49m\u001b[39m.\u001b[39;49m_engine\u001b[39m.\u001b[39;49mget_loc(casted_key)\n\u001b[1;32m   3803\u001b[0m \u001b[39mexcept\u001b[39;00m \u001b[39mKeyError\u001b[39;00m \u001b[39mas\u001b[39;00m err:\n",
      "File \u001b[0;32m~/anaconda3/lib/python3.10/site-packages/pandas/_libs/index.pyx:138\u001b[0m, in \u001b[0;36mpandas._libs.index.IndexEngine.get_loc\u001b[0;34m()\u001b[0m\n",
      "File \u001b[0;32m~/anaconda3/lib/python3.10/site-packages/pandas/_libs/index.pyx:165\u001b[0m, in \u001b[0;36mpandas._libs.index.IndexEngine.get_loc\u001b[0;34m()\u001b[0m\n",
      "File \u001b[0;32mpandas/_libs/hashtable_class_helper.pxi:5745\u001b[0m, in \u001b[0;36mpandas._libs.hashtable.PyObjectHashTable.get_item\u001b[0;34m()\u001b[0m\n",
      "File \u001b[0;32mpandas/_libs/hashtable_class_helper.pxi:5753\u001b[0m, in \u001b[0;36mpandas._libs.hashtable.PyObjectHashTable.get_item\u001b[0;34m()\u001b[0m\n",
      "\u001b[0;31mKeyError\u001b[0m: 'occupation'",
      "\nThe above exception was the direct cause of the following exception:\n",
      "\u001b[0;31mKeyError\u001b[0m                                  Traceback (most recent call last)",
      "Cell \u001b[0;32mIn[75], line 7\u001b[0m\n\u001b[1;32m      4\u001b[0m occupation_descriptions \u001b[39m=\u001b[39m {}\n\u001b[1;32m      6\u001b[0m \u001b[39m# loop through each occupation in the cleaned occupation column\u001b[39;00m\n\u001b[0;32m----> 7\u001b[0m \u001b[39mfor\u001b[39;00m occupation \u001b[39min\u001b[39;00m df[\u001b[39m'\u001b[39;49m\u001b[39moccupation\u001b[39;49m\u001b[39m'\u001b[39;49m]\u001b[39m.\u001b[39munique():\n\u001b[1;32m      8\u001b[0m     \n\u001b[1;32m      9\u001b[0m     \u001b[39m# filter the descriptions for this occupation\u001b[39;00m\n\u001b[1;32m     10\u001b[0m     occupation_desc \u001b[39m=\u001b[39m \u001b[39mlist\u001b[39m(df[df[\u001b[39m'\u001b[39m\u001b[39mcleaned_occupation\u001b[39m\u001b[39m'\u001b[39m] \u001b[39m==\u001b[39m occupation][\u001b[39m'\u001b[39m\u001b[39mcleaned_description\u001b[39m\u001b[39m'\u001b[39m])\n\u001b[1;32m     12\u001b[0m     \u001b[39m# add the list of descriptions to the dictionary\u001b[39;00m\n",
      "File \u001b[0;32m~/anaconda3/lib/python3.10/site-packages/pandas/core/frame.py:3807\u001b[0m, in \u001b[0;36mDataFrame.__getitem__\u001b[0;34m(self, key)\u001b[0m\n\u001b[1;32m   3805\u001b[0m \u001b[39mif\u001b[39;00m \u001b[39mself\u001b[39m\u001b[39m.\u001b[39mcolumns\u001b[39m.\u001b[39mnlevels \u001b[39m>\u001b[39m \u001b[39m1\u001b[39m:\n\u001b[1;32m   3806\u001b[0m     \u001b[39mreturn\u001b[39;00m \u001b[39mself\u001b[39m\u001b[39m.\u001b[39m_getitem_multilevel(key)\n\u001b[0;32m-> 3807\u001b[0m indexer \u001b[39m=\u001b[39m \u001b[39mself\u001b[39;49m\u001b[39m.\u001b[39;49mcolumns\u001b[39m.\u001b[39;49mget_loc(key)\n\u001b[1;32m   3808\u001b[0m \u001b[39mif\u001b[39;00m is_integer(indexer):\n\u001b[1;32m   3809\u001b[0m     indexer \u001b[39m=\u001b[39m [indexer]\n",
      "File \u001b[0;32m~/anaconda3/lib/python3.10/site-packages/pandas/core/indexes/base.py:3804\u001b[0m, in \u001b[0;36mIndex.get_loc\u001b[0;34m(self, key, method, tolerance)\u001b[0m\n\u001b[1;32m   3802\u001b[0m     \u001b[39mreturn\u001b[39;00m \u001b[39mself\u001b[39m\u001b[39m.\u001b[39m_engine\u001b[39m.\u001b[39mget_loc(casted_key)\n\u001b[1;32m   3803\u001b[0m \u001b[39mexcept\u001b[39;00m \u001b[39mKeyError\u001b[39;00m \u001b[39mas\u001b[39;00m err:\n\u001b[0;32m-> 3804\u001b[0m     \u001b[39mraise\u001b[39;00m \u001b[39mKeyError\u001b[39;00m(key) \u001b[39mfrom\u001b[39;00m \u001b[39merr\u001b[39;00m\n\u001b[1;32m   3805\u001b[0m \u001b[39mexcept\u001b[39;00m \u001b[39mTypeError\u001b[39;00m:\n\u001b[1;32m   3806\u001b[0m     \u001b[39m# If we have a listlike key, _check_indexing_error will raise\u001b[39;00m\n\u001b[1;32m   3807\u001b[0m     \u001b[39m#  InvalidIndexError. Otherwise we fall through and re-raise\u001b[39;00m\n\u001b[1;32m   3808\u001b[0m     \u001b[39m#  the TypeError.\u001b[39;00m\n\u001b[1;32m   3809\u001b[0m     \u001b[39mself\u001b[39m\u001b[39m.\u001b[39m_check_indexing_error(key)\n",
      "\u001b[0;31mKeyError\u001b[0m: 'occupation'"
     ]
    }
   ],
   "source": [
    "##Ta ut de viktigaste \n",
    "\n",
    "# create an empty dictionary to store occupation descriptions\n",
    "occupation_descriptions = {}\n",
    "\n",
    "# loop through each occupation in the cleaned occupation column\n",
    "for occupation in df['occupation'].unique():\n",
    "    \n",
    "    # filter the descriptions for this occupation\n",
    "    occupation_desc = list(df[df['cleaned_occupation'] == occupation]['cleaned_description'])\n",
    "    \n",
    "    # add the list of descriptions to the dictionary\n",
    "    occupation_descriptions[occupation] = occupation_desc"
   ]
  },
  {
   "cell_type": "code",
   "execution_count": 76,
   "metadata": {},
   "outputs": [
    {
     "name": "stderr",
     "output_type": "stream",
     "text": [
      "/var/folders/zr/mz6c_4k94t907vnlkq6817h80000gn/T/ipykernel_3807/225973333.py:13: SettingWithCopyWarning: \n",
      "A value is trying to be set on a copy of a slice from a DataFrame.\n",
      "Try using .loc[row_indexer,col_indexer] = value instead\n",
      "\n",
      "See the caveats in the documentation: https://pandas.pydata.org/pandas-docs/stable/user_guide/indexing.html#returning-a-view-versus-a-copy\n",
      "  df['cleaned_occupation'] = cleaned_occupations\n"
     ]
    },
    {
     "name": "stdout",
     "output_type": "stream",
     "text": [
      "                 occupation                                        description\n",
      "0            Projektledare,  {'text': 'Tänk dig de mest högteknologiska ele...\n",
      "1    Databasadministratör',  {'text': 'I denna projektanställning på deltid...\n",
      "2     Journalist/Reporter',  {'text': 'Deltidsskribenter med stort nyhets- ...\n",
      "3     Handläggare/Utredare,  {'text': 'Är du social och vet vad god service...\n",
      "4         Transportledare',  {'text': 'Vill du arbeta med framtidens skogst...\n",
      "..                      ...                                                ...\n",
      "882      Trafiksamordnare',  {'text': 'Göteborg är mitt uppe i ett stort st...\n",
      "883         Svetsingenjör',  {'text': 'För kunds räkning söker vi en Svetsa...\n",
      "884           Komminister',  {'text': 'Beskrivning\\nVi söker dig som vill h...\n",
      "885              Inspektör,  {'text': 'Är du redo för en större uppgift?\\nA...\n",
      "886    Förvaltningsekonom',  {'text': 'Du blir en del av ett team med tätt ...\n",
      "\n",
      "[887 rows x 2 columns]\n"
     ]
    }
   ],
   "source": [
    "import pandas as pd\n",
    "\n",
    "# read the file and select the relevant columns\n",
    "jobtech_dataset = pd.read_csv('dfsvenska.csv')\n",
    "df = jobtech_dataset[['description', 'occupation']]\n",
    "\n",
    "# clean the occupation column and create a new column for the cleaned occupation\n",
    "cleaned_occupations = []\n",
    "for index, row in df.iterrows():\n",
    "    occupation = row['occupation'][41:]\n",
    "    cleaned_occupation = occupation.split()[0]\n",
    "    cleaned_occupations.append(cleaned_occupation)\n",
    "df['cleaned_occupation'] = cleaned_occupations\n",
    "\n",
    "# loop through each unique occupation and find the corresponding description(s)\n",
    "occupations = df['cleaned_occupation'].unique()\n",
    "occupation_descriptions = []\n",
    "for occupation in occupations:\n",
    "    description = \"\"\n",
    "    for index, row in df.iterrows():\n",
    "        if row['cleaned_occupation'] == occupation:\n",
    "            description += row['description'] + \" \"\n",
    "    occupation_descriptions.append(description.strip())\n",
    "\n",
    "# create a new dataframe with the occupations and descriptions\n",
    "new_df = pd.DataFrame({'occupation': occupations, 'description': occupation_descriptions})\n",
    "\n",
    "# print the new dataframe\n",
    "print(new_df)"
   ]
  },
  {
   "cell_type": "code",
   "execution_count": null,
   "metadata": {},
   "outputs": [],
   "source": [
    "#Frequency distribution\n",
    "\n",
    "from nltk import FreqDist\n",
    "\n",
    "frequency_distribution = FreqDist(ny_filtrerad_lista)\n",
    "\n",
    "print(frequency_distribution)\n",
    "ny_variabel = frequency_distribution.most_common(50)\n",
    "\n",
    "print(ny_variabel)\n",
    "\n",
    "ny_variabel = frequency_distribution.most_common(20)\n",
    "print(\"\\nTop 50 most common words:\")\n",
    "for word, freq in ny_variabel:\n",
    "    print(f\"{word}: {freq}\")\n"
   ]
  }
 ],
 "metadata": {
  "kernelspec": {
   "display_name": "base",
   "language": "python",
   "name": "python3"
  },
  "language_info": {
   "codemirror_mode": {
    "name": "ipython",
    "version": 3
   },
   "file_extension": ".py",
   "mimetype": "text/x-python",
   "name": "python",
   "nbconvert_exporter": "python",
   "pygments_lexer": "ipython3",
   "version": "3.10.9"
  },
  "orig_nbformat": 4
 },
 "nbformat": 4,
 "nbformat_minor": 2
}
