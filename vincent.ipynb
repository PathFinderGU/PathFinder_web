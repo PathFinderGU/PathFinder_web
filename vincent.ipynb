{
 "cells": [
  {
   "cell_type": "code",
   "execution_count": 1,
   "metadata": {},
   "outputs": [
    {
     "name": "stdout",
     "output_type": "stream",
     "text": [
      "             id                                        description  \\\n",
      "0      25478909  {'text': \"We are looking for you who want to g...   \n",
      "1      25416534  {'text': 'Tänk dig de mest högteknologiska ele...   \n",
      "2      25437354  {'text': 'I denna projektanställning på deltid...   \n",
      "3      25473353  {'text': 'Deltidsskribenter med stort nyhets- ...   \n",
      "4      25476460  {'text': 'Är du social och vet vad god service...   \n",
      "...         ...                                                ...   \n",
      "10507  25492097  {'text': 'Vi är ett professionellt vårdteam so...   \n",
      "10508  25492113  {'text': 'Modernera är ett modernt rekrytering...   \n",
      "10509  25492114  {'text': 'Nu söker vi en CNC-operatör (Svarv) ...   \n",
      "10510  25492115  {'text': 'Strängnäs Mekaniska AB fortsätter at...   \n",
      "10511  25492116  {'text': 'Är du en erfaren Barnmorska redo för...   \n",
      "\n",
      "                                      working_hours_type  \n",
      "0      {'concept_id': '6YE1_gAC_R2G', 'label': 'Helti...  \n",
      "1      {'concept_id': '6YE1_gAC_R2G', 'label': 'Helti...  \n",
      "2      {'concept_id': '947z_JGS_Uk2', 'label': 'Delti...  \n",
      "3      {'concept_id': '947z_JGS_Uk2', 'label': 'Delti...  \n",
      "4      {'concept_id': '947z_JGS_Uk2', 'label': 'Delti...  \n",
      "...                                                  ...  \n",
      "10507  {'concept_id': '947z_JGS_Uk2', 'label': 'Delti...  \n",
      "10508  {'concept_id': '6YE1_gAC_R2G', 'label': 'Helti...  \n",
      "10509  {'concept_id': '6YE1_gAC_R2G', 'label': 'Helti...  \n",
      "10510  {'concept_id': '6YE1_gAC_R2G', 'label': 'Helti...  \n",
      "10511  {'concept_id': '6YE1_gAC_R2G', 'label': 'Helti...  \n",
      "\n",
      "[10512 rows x 3 columns]\n"
     ]
    }
   ],
   "source": [
    "# Loading the dataset\n",
    "\n",
    "# Code from Canvas:\n",
    "#load pandas, tool for data analysis in Python\n",
    "import pandas as pd\n",
    "# read the file called 2022.json that is in the same directory and call it jobtech_dataset\n",
    "jobtech_dataset = pd.read_csv('jobtech_dataset2022.csv')\n",
    "#\n",
    "df = jobtech_dataset[['id', 'description', 'working_hours_type', 'must_have', 'nice_to_have']]\n",
    "# #show the variables names (columns) in the dataset\n",
    "print(df)\n"
   ]
  }
 ],
 "metadata": {
  "kernelspec": {
   "display_name": "base",
   "language": "python",
   "name": "python3"
  },
  "language_info": {
   "codemirror_mode": {
    "name": "ipython",
    "version": 3
   },
   "file_extension": ".py",
   "mimetype": "text/x-python",
   "name": "python",
   "nbconvert_exporter": "python",
   "pygments_lexer": "ipython3",
   "version": "3.10.9"
  },
  "orig_nbformat": 4
 },
 "nbformat": 4,
 "nbformat_minor": 2
}
