{
 "cells": [
  {
   "cell_type": "code",
   "execution_count": null,
   "metadata": {},
   "outputs": [],
   "source": [
    "from sklearn.naive_bayes import MultinomialNB\n",
    "from sklearn.feature_extraction.text import TfidfVectorizer\n",
    "from sklearn.model_selection import train_test_split\n",
    "\n",
    "# Load dataset\n",
    "# Load dataset \n",
    "df = pd.read_csv('clean_occup.csv')\n",
    "\n",
    "\n",
    "# Split data into training and testing sets\n",
    "X, y = zip(*data)\n",
    "X_train, X_test, y_train, y_test = train_test_split(X, y, test_size=0.2, random_state=42)\n",
    "\n",
    "# Preprocess data\n",
    "vectorizer = TfidfVectorizer(stop_words='english')\n",
    "X_train = vectorizer.fit_transform(X_train)\n",
    "X_test = vectorizer.transform(X_test)\n",
    "\n",
    "# Train classifier\n",
    "clf = MultinomialNB()\n",
    "clf.fit(X_train, y_train)\n",
    "\n",
    "# Evaluate classifier\n",
    "y_pred = clf.predict(X_test)\n",
    "accuracy = clf.score(X_test, y_test)\n",
    "print('Accuracy:', accuracy)\n",
    "\n",
    "# Make predictions\n",
    "input_words = ['marketing', 'python', 'design', 'programming', 'sales']\n",
    "input_text = ' '.join(input_words)\n",
    "input_vec = vectorizer.transform([input_text])\n",
    "output = clf.predict(input_vec)\n",
    "print('Occupations:', ', '.join(output))"
   ]
  }
 ],
 "metadata": {
  "interpreter": {
   "hash": "d8cfe7b8aaf1a3403420e67de67cc3d23cf46d44566f18d4057156800654641b"
  },
  "kernelspec": {
   "display_name": "Python 3.9.7 ('base')",
   "language": "python",
   "name": "python3"
  },
  "language_info": {
   "name": "python",
   "version": "3.9.7"
  },
  "orig_nbformat": 4
 },
 "nbformat": 4,
 "nbformat_minor": 2
}
