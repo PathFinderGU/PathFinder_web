{
 "cells": [
  {
   "cell_type": "code",
   "execution_count": 19,
   "metadata": {},
   "outputs": [
    {
     "name": "stdout",
     "output_type": "stream",
     "text": [
      "['Projektledare, IT', 'Controller', 'Abonnemangsförsäljare', 'Underhållsmekaniker', 'Industrielektriker']\n"
     ]
    }
   ],
   "source": [
    "# it will take the input words, predict the job occupations, \n",
    "# filter the jobs dataset based on the predicted occupations, \n",
    "# and return the top 5 matching job occupations.\n",
    "\n",
    "\n",
    "\n",
    "import pandas as pd\n",
    "from nltk.corpus import stopwords\n",
    "from nltk.tokenize import word_tokenize\n",
    "from sklearn.feature_extraction.text import CountVectorizer\n",
    "from sklearn.naive_bayes import MultinomialNB\n",
    "\n",
    "# Load the job dataset\n",
    "jobs = pd.read_csv('dataset2022rows100.csv')\n",
    "\n",
    "# Create a CountVectorizer object\n",
    "vectorizer = CountVectorizer()\n",
    "\n",
    "# Convert the job descriptions into a matrix of numerical features\n",
    "X = vectorizer.fit_transform(jobs['description'])\n",
    "\n",
    "# Create a Multinomial Naive Bayes classifier object\n",
    "clf = MultinomialNB()\n",
    "\n",
    "# Train the classifier using the numerical features and the job occupations\n",
    "clf.fit(X, jobs['occupation'])\n",
    "\n",
    "def classify_job(input_words):\n",
    "    # Convert the input words into a numerical feature matrix\n",
    "    input_features = vectorizer.transform(input_words)\n",
    "\n",
    "    # Predict the job occupation based on the input features\n",
    "    predicted_occupations = clf.predict(input_features)\n",
    "\n",
    "    # Filter the jobs dataset based on the predicted occupations\n",
    "    matches = jobs[jobs['occupation'].isin(predicted_occupations)]\n",
    "\n",
    "    # Return the top 5 matching job occupations\n",
    "    top_matches = matches['occupation'].value_counts().head(5).index.tolist()\n",
    "\n",
    "    return top_matches\n",
    "\n",
    "input_words = ['samarbetande', 'analytisk', 'kreativ', 'säkerhet', 'människor']\n",
    "matching_jobs = classify_job(input_words)\n",
    "print(matching_jobs)\n"
   ]
  }
 ],
 "metadata": {
  "interpreter": {
   "hash": "d8cfe7b8aaf1a3403420e67de67cc3d23cf46d44566f18d4057156800654641b"
  },
  "kernelspec": {
   "display_name": "Python 3.9.7 ('base')",
   "language": "python",
   "name": "python3"
  },
  "language_info": {
   "codemirror_mode": {
    "name": "ipython",
    "version": 3
   },
   "file_extension": ".py",
   "mimetype": "text/x-python",
   "name": "python",
   "nbconvert_exporter": "python",
   "pygments_lexer": "ipython3",
   "version": "3.9.7"
  },
  "orig_nbformat": 4
 },
 "nbformat": 4,
 "nbformat_minor": 2
}
