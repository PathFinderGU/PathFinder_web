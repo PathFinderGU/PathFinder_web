{
 "cells": [
  {
   "cell_type": "code",
   "execution_count": 1,
   "metadata": {},
   "outputs": [
    {
     "name": "stderr",
     "output_type": "stream",
     "text": [
      "[nltk_data] Downloading package stopwords to /Users/jon/nltk_data...\n",
      "[nltk_data]   Package stopwords is already up-to-date!\n",
      "[nltk_data] Downloading package punkt to /Users/jon/nltk_data...\n",
      "[nltk_data]   Package punkt is already up-to-date!\n",
      "[nltk_data] Downloading package wordnet to /Users/jon/nltk_data...\n",
      "[nltk_data]   Package wordnet is already up-to-date!\n"
     ]
    }
   ],
   "source": [
    "## NLTK SET UP ##\n",
    "\n",
    "## Natural language processing, pandas setup\n",
    "\n",
    "#Import tokenization, download stopwords & punkt. Download not needed each run but left in for compatibility.\n",
    "from nltk.tokenize import sent_tokenize, word_tokenize\n",
    "from nltk import download \n",
    "import nltk\n",
    "nltk.download(\"stopwords\")\n",
    "from nltk.corpus import stopwords\n",
    "nltk.download('punkt')\n",
    "nltk.download('wordnet')\n",
    "\n",
    "\n",
    "## Feed variable with NLTK stopwords\n",
    "stop_words = set(stopwords.words(\"swedish\"))"
   ]
  },
  {
   "cell_type": "code",
   "execution_count": 6,
   "metadata": {},
   "outputs": [
    {
     "name": "stderr",
     "output_type": "stream",
     "text": [
      "/var/folders/09/srb9_l2x3gncdpn0_zx0r2pm0000gn/T/ipykernel_5397/3695825639.py:17: SettingWithCopyWarning: \n",
      "A value is trying to be set on a copy of a slice from a DataFrame.\n",
      "Try using .loc[row_indexer,col_indexer] = value instead\n",
      "\n",
      "See the caveats in the documentation: https://pandas.pydata.org/pandas-docs/stable/user_guide/indexing.html#returning-a-view-versus-a-copy\n",
      "  df['cleaned_occupation'] = cleaned_occupations\n",
      "/var/folders/09/srb9_l2x3gncdpn0_zx0r2pm0000gn/T/ipykernel_5397/3695825639.py:23: SettingWithCopyWarning: \n",
      "A value is trying to be set on a copy of a slice from a DataFrame.\n",
      "Try using .loc[row_indexer,col_indexer] = value instead\n",
      "\n",
      "See the caveats in the documentation: https://pandas.pydata.org/pandas-docs/stable/user_guide/indexing.html#returning-a-view-versus-a-copy\n",
      "  df['cleaned_description'] = cleaned_descriptions\n",
      "/var/folders/09/srb9_l2x3gncdpn0_zx0r2pm0000gn/T/ipykernel_5397/3695825639.py:26: SettingWithCopyWarning: \n",
      "A value is trying to be set on a copy of a slice from a DataFrame.\n",
      "Try using .loc[row_indexer,col_indexer] = value instead\n",
      "\n",
      "See the caveats in the documentation: https://pandas.pydata.org/pandas-docs/stable/user_guide/indexing.html#returning-a-view-versus-a-copy\n",
      "  df['cleaned_description'] = df['cleaned_description'].str.translate(str.maketrans(replace_dict))\n"
     ]
    },
    {
     "name": "stdout",
     "output_type": "stream",
     "text": [
      "                 occupation                                        description\n",
      "0            Projektledare,  {'text': 'Tänk dig de mest högteknologiska ele...\n",
      "1    Databasadministratör',  {'text': 'I denna projektanställning på deltid...\n",
      "2     Journalist/Reporter',  {'text': 'Deltidsskribenter med stort nyhets- ...\n",
      "3     Handläggare/Utredare,  {'text': 'Är du social och vet vad god service...\n",
      "4         Transportledare',  {'text': 'Vill du arbeta med framtidens skogst...\n",
      "..                      ...                                                ...\n",
      "882      Trafiksamordnare',  {'text': 'Göteborg är mitt uppe i ett stort st...\n",
      "883         Svetsingenjör',  {'text': 'För kunds räkning söker vi en Svetsa...\n",
      "884           Komminister',  {'text': 'Beskrivning\\nVi söker dig som vill h...\n",
      "885              Inspektör,  {'text': 'Är du redo för en större uppgift?\\nA...\n",
      "886    Förvaltningsekonom',  {'text': 'Du blir en del av ett team med tätt ...\n",
      "\n",
      "[887 rows x 2 columns]\n"
     ]
    }
   ],
   "source": [
    "\n",
    "\n",
    "import pandas as pd\n",
    "import matplotlib.pyplot as plt\n",
    "\n",
    "\n",
    "# read the file and select the relevant columns\n",
    "jobtech_dataset = pd.read_csv('dfsvenska.csv')\n",
    "df = jobtech_dataset[['description', 'occupation']]\n",
    "\n",
    "replace_dict = {'!': '', '@': '', '#': '', '$': '', '%': '', '\\n': ''}\n",
    "\n",
    "# clean the occupation column and create a new column for the cleaned occupation\n",
    "cleaned_occupations = []\n",
    "for index, row in df.iterrows():\n",
    "    occupation = row['occupation'][41:]\n",
    "    cleaned_occupation = occupation.split()[0]\n",
    "    cleaned_occupations.append(cleaned_occupation)\n",
    "df['cleaned_occupation'] = cleaned_occupations\n",
    "\n",
    "cleaned_descriptions = []\n",
    "for index, row in df.iterrows():\n",
    "    description = row['description'][10:]\n",
    "    cleaned_descriptions.append(description)\n",
    "df['cleaned_description'] = cleaned_descriptions\n",
    "\n",
    "\n",
    "df['cleaned_description'] = df['cleaned_description'].str.translate(str.maketrans(replace_dict))\n",
    "\n",
    "\n",
    "# loop through each unique occupation and find the corresponding description(s)\n",
    "occupations = df['cleaned_occupation'].unique()\n",
    "occupation_descriptions = []\n",
    "for occupation in occupations:\n",
    "    description = \"\"\n",
    "    for index, row in df.iterrows():\n",
    "        if row['cleaned_occupation'] == occupation:\n",
    "            description += row['description'] + \" \"\n",
    "    occupation_descriptions.append(description.strip())\n",
    "\n",
    "# create a new dataframe with the occupations and descriptions\n",
    "new_df = pd.DataFrame({'occupation': occupations, 'description': occupation_descriptions})\n",
    "\n",
    "new_df.to_csv('clean_ness.csv', index=False)\n",
    "\n",
    "# print the new dataframe\n",
    "print(new_df)\n",
    "\n"
   ]
  }
 ],
 "metadata": {
  "kernelspec": {
   "display_name": "base",
   "language": "python",
   "name": "python3"
  },
  "language_info": {
   "codemirror_mode": {
    "name": "ipython",
    "version": 3
   },
   "file_extension": ".py",
   "mimetype": "text/x-python",
   "name": "python",
   "nbconvert_exporter": "python",
   "pygments_lexer": "ipython3",
   "version": "3.9.7"
  },
  "orig_nbformat": 4
 },
 "nbformat": 4,
 "nbformat_minor": 2
}
